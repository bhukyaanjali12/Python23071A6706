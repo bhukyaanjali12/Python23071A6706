{
  "metadata": {
    "kernelspec": {
      "name": "python",
      "display_name": "Python (Pyodide)",
      "language": "python"
    },
    "language_info": {
      "codemirror_mode": {
        "name": "python",
        "version": 3
      },
      "file_extension": ".py",
      "mimetype": "text/x-python",
      "name": "python",
      "nbconvert_exporter": "python",
      "pygments_lexer": "ipython3",
      "version": "3.8"
    },
    "widgets": {
      "application/vnd.jupyter.widget-state+json": {
        "version_major": 2,
        "version_minor": 0,
        "state": {}
      }
    }
  },
  "nbformat_minor": 4,
  "nbformat": 4,
  "cells": [
    {
      "cell_type": "code",
      "source": "import numpy as np",
      "metadata": {
        "trusted": true
      },
      "outputs": [],
      "execution_count": 2
    },
    {
      "cell_type": "code",
      "source": "arr=np.array([1,2,3,4,5,6,7,8,9])",
      "metadata": {
        "trusted": true
      },
      "outputs": [],
      "execution_count": 3
    },
    {
      "cell_type": "code",
      "source": "print(arr[1:5])              #3\nprint(arr[4:]) \nprint(arr[:4]) \nprint(arr[-3:-1]) \nprint(arr[1:5:2])\nprint(arr[::2])",
      "metadata": {
        "trusted": true
      },
      "outputs": [
        {
          "name": "stdout",
          "text": "[2 3 4 5]\n[5 6 7 8 9]\n[1 2 3 4]\n[7 8]\n[2 4]\n[1 3 5 7 9]\n",
          "output_type": "stream"
        }
      ],
      "execution_count": 4
    },
    {
      "cell_type": "code",
      "source": "np.sqrt(arr)                 #4\nnp.std(arr)",
      "metadata": {
        "trusted": true
      },
      "outputs": [
        {
          "execution_count": 5,
          "output_type": "execute_result",
          "data": {
            "text/plain": "2.581988897471611"
          },
          "metadata": {}
        }
      ],
      "execution_count": 5
    },
    {
      "cell_type": "code",
      "source": "arr1=np.array([[1,2,3],[4,5,6]])\narr2=np.array([[1,2,3],[4,5,6]])\nprint(arr1+arr2)\nprint(arr1-arr2)\nprint(arr1*arr2)\nprint(arr1/arr2)",
      "metadata": {
        "trusted": true
      },
      "outputs": [
        {
          "name": "stdout",
          "text": "[[ 2  4  6]\n [ 8 10 12]]\n[[0 0 0]\n [0 0 0]]\n[[ 1  4  9]\n [16 25 36]]\n[[1. 1. 1.]\n [1. 1. 1.]]\n",
          "output_type": "stream"
        }
      ],
      "execution_count": 6
    },
    {
      "cell_type": "code",
      "source": "print(\"vstack:\",np.vstack((arr1,arr2)))\nprint(\"hstack:\",np.hstack((arr1,arr2)))\nprint(\"ravel:\",np.ravel(arr))",
      "metadata": {
        "trusted": true
      },
      "outputs": [
        {
          "name": "stdout",
          "text": "vstack: [[1 2 3]\n [4 5 6]\n [1 2 3]\n [4 5 6]]\nhstack: [[1 2 3 1 2 3]\n [4 5 6 4 5 6]]\nravel: [1 2 3 4 5 6 7 8 9]\n",
          "output_type": "stream"
        }
      ],
      "execution_count": 9
    },
    {
      "cell_type": "code",
      "source": "searchingInArray= np.array([10, 32, 30, 50, 20, 82, 91, 45])\ni = np.where(searchingInArray== 30)\nprint(i)",
      "metadata": {
        "trusted": true
      },
      "outputs": [
        {
          "name": "stdout",
          "text": "(array([2], dtype=int32),)\n",
          "output_type": "stream"
        }
      ],
      "execution_count": 10
    },
    {
      "cell_type": "code",
      "source": "",
      "metadata": {
        "trusted": true
      },
      "outputs": [],
      "execution_count": null
    }
  ]
}