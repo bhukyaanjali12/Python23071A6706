{
 "cells": [
  {
   "cell_type": "code",
   "execution_count": 6,
   "id": "bbc12449-82a8-4acc-9c10-62e0bdd7d142",
   "metadata": {},
   "outputs": [
    {
     "name": "stdout",
     "output_type": "stream",
     "text": [
      "[1 2 3 4 5]\n",
      "[ 6  7  8  9 10]\n",
      "<class 'numpy.ndarray'>\n"
     ]
    }
   ],
   "source": [
    "import numpy as np\n",
    "myList=[1,2,3,4,5]\n",
    "myTuple=(6,7,8,9,10)\n",
    "listToArray=np.array(myList)\n",
    "tupleToArray=np.array(myTuple)\n",
    "print(listToArray)\n",
    "print(tupleToArray)\n",
    "print(type(listToArray))"
   ]
  },
  {
   "cell_type": "code",
   "execution_count": 10,
   "id": "6a2224ca-496b-4cb3-93b0-f2cd5259c836",
   "metadata": {},
   "outputs": [
    {
     "name": "stdout",
     "output_type": "stream",
     "text": [
      "Common elements in both arrays are:  [2 4]\n"
     ]
    }
   ],
   "source": [
    "import numpy as np\n",
    "list1=[1,2,3,4,5]\n",
    "list2=[2,4,6,8]\n",
    "arr1=np.array(list1)\n",
    "arr2=np.array(list2)\n",
    "commonElements=np.intersect1d(arr1,arr2)\n",
    "print(\"Common elements in both arrays are: \",commonElements)"
   ]
  },
  {
   "cell_type": "code",
   "execution_count": 12,
   "id": "0546b517-4ae9-4532-8769-e90e14d77726",
   "metadata": {},
   "outputs": [
    {
     "name": "stdout",
     "output_type": "stream",
     "text": [
      " GCD of two numbers 48 and 18 is 6\n"
     ]
    }
   ],
   "source": [
    "import math\n",
    "def gcd(a,b):\n",
    "    return math.gcd(a,b)\n",
    "x=48\n",
    "y=18\n",
    "print(f\" GCD of two numbers {x} and {y} is {gcd(x,y)}\")"
   ]
  },
  {
   "cell_type": "code",
   "execution_count": 16,
   "id": "5af13052-0ee0-4f87-a49e-0633016a56dc",
   "metadata": {},
   "outputs": [
    {
     "name": "stdout",
     "output_type": "stream",
     "text": [
      "True\n",
      "False\n"
     ]
    }
   ],
   "source": [
    "def isPalindrome(s):\n",
    "    return s==s[: : -1]\n",
    "word1=\"racecar\"\n",
    "word2=\"phone\"\n",
    "print(isPalindrome(word1))\n",
    "print(isPalindrome(word2))"
   ]
  },
  {
   "cell_type": "code",
   "execution_count": 18,
   "id": "4909602f-e407-481c-8134-b8a1952da9ff",
   "metadata": {},
   "outputs": [
    {
     "name": "stdout",
     "output_type": "stream",
     "text": [
      "Mean is: 3\n",
      "Mode is: 1\n",
      "Median is: 3\n"
     ]
    }
   ],
   "source": [
    "import statistics\n",
    "list1=[1,2,3,4,5]\n",
    "list2=[1,1,2,3,4]\n",
    "mean=statistics.mean(list1)\n",
    "median=statistics.median(list1)\n",
    "mode=statistics.mode(list2)\n",
    "print(f\"Mean is: {mean}\")\n",
    "print(f\"Mode is: {mode}\")\n",
    "print(f\"Median is: {median}\")"
   ]
  },
  {
   "cell_type": "code",
   "execution_count": 20,
   "id": "9668ed72-22f6-4526-ba30-c23505154e35",
   "metadata": {},
   "outputs": [
    {
     "name": "stdout",
     "output_type": "stream",
     "text": [
      "<class 'tuple'>\n",
      "(1, 2, 3, 4, 5)\n"
     ]
    }
   ],
   "source": [
    "myTuple=(1,2,3,4,5)\n",
    "print(type(myTuple))\n",
    "print(myTuple)\n"
   ]
  },
  {
   "cell_type": "code",
   "execution_count": 22,
   "id": "d83b011e-06a0-434c-9670-d53de5b72569",
   "metadata": {},
   "outputs": [
    {
     "name": "stdout",
     "output_type": "stream",
     "text": [
      "(1, 'Hello', 'world', 2, 3, True)\n",
      "<class 'tuple'>\n"
     ]
    }
   ],
   "source": [
    "Tuple1=(1,\"Hello\",\"world\",2,3,True)\n",
    "print(Tuple1)\n",
    "print(type(Tuple1))"
   ]
  },
  {
   "cell_type": "code",
   "execution_count": 26,
   "id": "1aa9561c-2c68-4af4-b074-97723c09fda4",
   "metadata": {},
   "outputs": [
    {
     "name": "stdout",
     "output_type": "stream",
     "text": [
      "Hello\n"
     ]
    }
   ],
   "source": [
    "print(Tuple1[1])"
   ]
  },
  {
   "cell_type": "code",
   "execution_count": 28,
   "id": "92906e2e-eed9-4de4-9a85-3b38d069c8b0",
   "metadata": {},
   "outputs": [
    {
     "name": "stdout",
     "output_type": "stream",
     "text": [
      "It exists\n"
     ]
    }
   ],
   "source": [
    "if 2 in Tuple1:\n",
    "    print(\"It exists\")\n",
    "else:\n",
    "    print(\"Doesn't exist\")"
   ]
  },
  {
   "cell_type": "code",
   "execution_count": null,
   "id": "daa413e8-b4cf-417d-96d6-c94d11ad599f",
   "metadata": {},
   "outputs": [],
   "source": []
  }
 ],
 "metadata": {
  "kernelspec": {
   "display_name": "anaconda-panel-2023.05-py310",
   "language": "python",
   "name": "conda-env-anaconda-panel-2023.05-py310-py"
  },
  "language_info": {
   "codemirror_mode": {
    "name": "ipython",
    "version": 3
   },
   "file_extension": ".py",
   "mimetype": "text/x-python",
   "name": "python",
   "nbconvert_exporter": "python",
   "pygments_lexer": "ipython3",
   "version": "3.11.5"
  }
 },
 "nbformat": 4,
 "nbformat_minor": 5
}
