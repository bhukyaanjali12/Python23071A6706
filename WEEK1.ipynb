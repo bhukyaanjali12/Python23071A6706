{
  "metadata": {
    "kernelspec": {
      "name": "python",
      "display_name": "Python (Pyodide)",
      "language": "python"
    },
    "language_info": {
      "codemirror_mode": {
        "name": "python",
        "version": 3
      },
      "file_extension": ".py",
      "mimetype": "text/x-python",
      "name": "python",
      "nbconvert_exporter": "python",
      "pygments_lexer": "ipython3",
      "version": "3.8"
    },
    "widgets": {
      "application/vnd.jupyter.widget-state+json": {
        "version_major": 2,
        "version_minor": 0,
        "state": {}
      }
    }
  },
  "nbformat_minor": 5,
  "nbformat": 4,
  "cells": [
    {
      "id": "2a1ae024-0dd8-4f61-813c-ea9a0e168248",
      "cell_type": "code",
      "source": "a=3\nb=4\nprint(\"sum is:\",a+b)\nprint(\"diff is:\",a-b)\nprint(\"product is:\",a*b)\nprint(\"division is:\",a/b)\nprint(\"remainder is:\",a%b)\nprint(\"floor division is:\",a//b)\nprint(\"power is:\",a**b)",
      "metadata": {
        "trusted": true
      },
      "outputs": [
        {
          "name": "stdout",
          "text": "sum is: 7\ndiff is: -1\nproduct is: 12\ndivision is: 0.75\nremainder is: 3\nfloor division is: 0\npower is: 81\n",
          "output_type": "stream"
        }
      ],
      "execution_count": 2
    },
    {
      "id": "6c507ebb-63c2-4cff-b0a8-a26fbd7efb7d",
      "cell_type": "code",
      "source": "x=10\nif(x>20):\nprint(\"x is greater than 20\")\nelse:\nprint(\"x is smaller than 20\")",
      "metadata": {
        "trusted": true
      },
      "outputs": [
        {
          "ename": "<class 'IndentationError'>",
          "evalue": "expected an indented block after 'if' statement on line 2 (<ipython-input-3-268e790d02e8>, line 3)",
          "traceback": [
            "\u001b[0;36m  Cell \u001b[0;32mIn[3], line 3\u001b[0;36m\u001b[0m\n\u001b[0;31m    print(\"x is greater than 20\")\u001b[0m\n\u001b[0m    ^\u001b[0m\n\u001b[0;31mIndentationError\u001b[0m\u001b[0;31m:\u001b[0m expected an indented block after 'if' statement on line 2\n"
          ],
          "output_type": "error"
        }
      ],
      "execution_count": 3
    },
    {
      "id": "88526d60-6753-441c-9669-be65826c7a02",
      "cell_type": "code",
      "source": "x=10\nif(x>20):\n    print(\"x is greater than 20\")\nelse:\n    print(\"x is smaller than 20\")",
      "metadata": {
        "trusted": true
      },
      "outputs": [
        {
          "name": "stdout",
          "text": "x is smaller than 20\n",
          "output_type": "stream"
        }
      ],
      "execution_count": 4
    },
    {
      "id": "5490c98a-3c3b-4816-bd1f-8b8ec1b22b98",
      "cell_type": "code",
      "source": "principal=1000\nrate=5\ntimes_compunded=4\nyears=10\nrate_decimal=rate/100\namount=principal *(1+rate_decimal/times_compunded) ** (times_compunded*years)\nprint(f\"The amount after {years} years is {amount:.2f}\")",
      "metadata": {
        "trusted": true
      },
      "outputs": [
        {
          "name": "stdout",
          "text": "The amount after 10 years is 1643.62\n",
          "output_type": "stream"
        }
      ],
      "execution_count": 5
    },
    {
      "id": "1c7ba8fe-96ff-48ba-9e65-8001c59c4074",
      "cell_type": "code",
      "source": "import math \nx1=4\nx2=5\ny1=2\ny2=3\ndistance= math.sqrt(pow(x2-x1,2) + pow(y2-y1,2))\nprint(f\"The distance between two points is: {distance:.2f}\")",
      "metadata": {
        "trusted": true
      },
      "outputs": [
        {
          "name": "stdout",
          "text": "The distance between two points is: 1.41\n",
          "output_type": "stream"
        }
      ],
      "execution_count": 8
    },
    {
      "id": "e4fdfa63-bf49-44a5-992d-6672a9d44fb1",
      "cell_type": "code",
      "source": "print(\"The person details are \")\nname= input(\"Enter the name:\")\naddress=input(\"Enter the address:\")\nemail=input(\"Enter email:\")\nphoneno=input(\"Enter phoneno:\")",
      "metadata": {
        "trusted": true
      },
      "outputs": [
        {
          "name": "stdout",
          "text": "The person details are \n",
          "output_type": "stream"
        },
        {
          "output_type": "stream",
          "name": "stdin",
          "text": "Enter the name: john\nEnter the address: denmark\nEnter email: john12@gmail.com\nEnter phoneno: 9876424567\n"
        }
      ],
      "execution_count": 12
    }
  ]
}