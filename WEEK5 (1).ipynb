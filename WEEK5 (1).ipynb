{
  "metadata": {
    "kernelspec": {
      "name": "python",
      "display_name": "Python (Pyodide)",
      "language": "python"
    },
    "language_info": {
      "codemirror_mode": {
        "name": "python",
        "version": 3
      },
      "file_extension": ".py",
      "mimetype": "text/x-python",
      "name": "python",
      "nbconvert_exporter": "python",
      "pygments_lexer": "ipython3",
      "version": "3.8"
    },
    "widgets": {
      "application/vnd.jupyter.widget-state+json": {
        "version_major": 2,
        "version_minor": 0,
        "state": {}
      }
    }
  },
  "nbformat_minor": 4,
  "nbformat": 4,
  "cells": [
    {
      "cell_type": "code",
      "source": "import numpy as np",
      "metadata": {
        "trusted": true
      },
      "outputs": [],
      "execution_count": 1
    },
    {
      "cell_type": "code",
      "source": "arr=np.array([[1,2,3],[4,5,6],[7,8,9]])\narr",
      "metadata": {
        "trusted": true
      },
      "outputs": [
        {
          "execution_count": 4,
          "output_type": "execute_result",
          "data": {
            "text/plain": "array([[1, 2, 3],\n       [4, 5, 6],\n       [7, 8, 9]])"
          },
          "metadata": {}
        }
      ],
      "execution_count": 4
    },
    {
      "cell_type": "code",
      "source": "a1=np.array([[1,2],[3,4]])\na2=np.array([[2,1],[4,3]])\nprint(\"Addition of matrices: \\n\", a1+a2)",
      "metadata": {
        "trusted": true
      },
      "outputs": [
        {
          "name": "stdout",
          "text": "Addition of matrices: \n [[3 3]\n [7 7]]\n",
          "output_type": "stream"
        }
      ],
      "execution_count": 6
    },
    {
      "cell_type": "code",
      "source": "result = [[0 for _ in range(len(a2[0]))] for _ in range(len(a1))]\nfor i in range(len(a1)):       \n    for j in range(len(a2[0])): \n        for k in range(len(a2)): \n            result[i][j] += a1[i][k] * a2[k][j]\nprint(\"Multiplication of matrices: \\n\",result)",
      "metadata": {
        "trusted": true
      },
      "outputs": [
        {
          "name": "stdout",
          "text": "Multiplication of matrices: \n [[10, 7], [22, 15]]\n",
          "output_type": "stream"
        }
      ],
      "execution_count": 12
    },
    {
      "cell_type": "code",
      "source": "res = np.dot(a1, a2)\nprint(\"Multiplication of matrices(using numpy): \\n\",res)",
      "metadata": {
        "trusted": true
      },
      "outputs": [
        {
          "name": "stdout",
          "text": "Multiplication of matrices(using numpy): \n [[10  7]\n [22 15]]\n",
          "output_type": "stream"
        }
      ],
      "execution_count": 17
    },
    {
      "cell_type": "code",
      "source": "def addition(a,b):\n    print(\"Addition: \",a+b)\ndef subtraction(a,b):\n    print(\"Subtraction: \",a-b)    \ndef product(a,b):\n    print(\"Product: \",a*b)\ndef divide(a,b):\n    print(\"Division: \",a/b)\ndef modulo(a,b):\n    print(\"Remainder: \",a%b)\naddition(10,5)\nsubtraction(10,5)\nproduct(10,5)\ndivide(10,5)\nmodulo(10,5)",
      "metadata": {
        "trusted": true
      },
      "outputs": [
        {
          "name": "stdout",
          "text": "Addition:  15\nSubtraction:  5\nProduct:  50\nDivision:  2.0\nRemainder:  0\n",
          "output_type": "stream"
        }
      ],
      "execution_count": 18
    },
    {
      "cell_type": "code",
      "source": "def fact(n):\n    if n==0 or n==1 :\n        return 1\n    else:\n        return n*fact(n-1)\nfact(5)",
      "metadata": {
        "trusted": true
      },
      "outputs": [
        {
          "execution_count": 19,
          "output_type": "execute_result",
          "data": {
            "text/plain": "120"
          },
          "metadata": {}
        }
      ],
      "execution_count": 19
    },
    {
      "cell_type": "code",
      "source": "def cumulative_product(numbers):\n    if not numbers:\n        return []\n    result = [numbers[0]]\n    for i in range(1, len(numbers)):\n        result.append(result[-1] * numbers[i])\n    return result\nnumbers = [1, 2, 3, 4, 5]\nprint(cumulative_product(numbers))",
      "metadata": {
        "trusted": true
      },
      "outputs": [
        {
          "name": "stdout",
          "text": "[1, 2, 6, 24, 120]\n",
          "output_type": "stream"
        }
      ],
      "execution_count": 20
    },
    {
      "cell_type": "code",
      "source": "def reverse(lis):\n    reverseList=lis[::-1]\n    print(reverseList)\n",
      "metadata": {
        "trusted": true
      },
      "outputs": [],
      "execution_count": null
    },
    {
      "cell_type": "code",
      "source": "",
      "metadata": {
        "trusted": true
      },
      "outputs": [],
      "execution_count": null
    }
  ]
}