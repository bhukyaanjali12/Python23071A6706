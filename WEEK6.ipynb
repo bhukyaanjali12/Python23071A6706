{
  "metadata": {
    "kernelspec": {
      "name": "python",
      "display_name": "Python (Pyodide)",
      "language": "python"
    },
    "language_info": {
      "codemirror_mode": {
        "name": "python",
        "version": 3
      },
      "file_extension": ".py",
      "mimetype": "text/x-python",
      "name": "python",
      "nbconvert_exporter": "python",
      "pygments_lexer": "ipython3",
      "version": "3.8"
    },
    "widgets": {
      "application/vnd.jupyter.widget-state+json": {
        "version_major": 2,
        "version_minor": 0,
        "state": {}
      }
    }
  },
  "nbformat_minor": 4,
  "nbformat": 4,
  "cells": [
    {
      "cell_type": "code",
      "source": "def voter_age(age):\n    try:\n        num=int(age)\n        if(num>18):\n            print(\"valid age\")\n        elif(num<18):\n            print(\"not a valid age\")\n    except Exception as e:\n        print(\"enter only integers:\",str(e))\nnum=20\nvoter_age(num)",
      "metadata": {
        "trusted": true
      },
      "outputs": [
        {
          "name": "stdout",
          "text": "valid age\n",
          "output_type": "stream"
        }
      ],
      "execution_count": 5
    },
    {
      "cell_type": "code",
      "source": "try:\n    result=10/0\n    print(\"result:\",result)\nexcept ZeroDivisionError:\n    print(\"Division by zero is not accepted\")\nexcept ValueError:\n    print(\"enter only integers\")\nexcept Exception as e:\n    print(\"an error occured\",str(e))",
      "metadata": {
        "trusted": true
      },
      "outputs": [
        {
          "name": "stdout",
          "text": "Division by zero is not accepted\n",
          "output_type": "stream"
        }
      ],
      "execution_count": 6
    },
    {
      "cell_type": "code",
      "source": "def students_mark(marks):\n    try:\n        num=int(marks)\n        if(num>0):\n            print(\"valid number\")\n        elif(num<0 or num==0):\n            print(\"not valid\")\n    except Exception as e:\n        print(\"enter only integers :\",str(e))\nnum=\"str\"\nstudents_mark(num)",
      "metadata": {
        "trusted": true
      },
      "outputs": [
        {
          "name": "stdout",
          "text": "enter only integers : invalid literal for int() with base 10: 'str'\n",
          "output_type": "stream"
        }
      ],
      "execution_count": 7
    },
    {
      "cell_type": "code",
      "source": "try:\n    result=100/0\n    print(\"result : \",result)\nexcept Exception as e:\n    print(\"error occured :\",str(e))\nelse:\n    print(\"division successful\")\nfinally:\n    print(\"program completed successfully\")",
      "metadata": {
        "trusted": true
      },
      "outputs": [
        {
          "name": "stdout",
          "text": "error occured : division by zero\nprogram completed successfully\n",
          "output_type": "stream"
        }
      ],
      "execution_count": 9
    },
    {
      "cell_type": "code",
      "source": "import re\ndef Validate_phone(phone):\n    pattern=r'^\\d{10}$'\n    if re.match(pattern,phone):\n        return True\n    else:\n        return False\ntry:\n    phone=123456789\n    if Validate_phone(phone):\n        print(\"phone number is valid\")\n    else:\n        print(\"phone number is not valid\")\nexcept Exception as e:\n    print(\"exception : \",str(e))",
      "metadata": {
        "trusted": true
      },
      "outputs": [
        {
          "name": "stdout",
          "text": "exception :  expected string or bytes-like object, got 'int'\n",
          "output_type": "stream"
        }
      ],
      "execution_count": 16
    },
    {
      "cell_type": "code",
      "source": "import re\ndef email_id(id):\n    pattern=r'^[a-zA-Z0-9._+*-]+@[a-zA-Z0-9.-]+\\.[a-zA-Z]{2,}$'\n    if re.match(pattern,id):\n        return True\n    else:\n        return False\ntry:\n    id='\n    if(email_id(id)):\n        print(\"id is correct\")\n    else:\n        print(\"id is incorrect\")\nexcept Exception as e:\n    print(\"Exception : \",str(e))",
      "metadata": {
        "trusted": true
      },
      "outputs": [],
      "execution_count": null
    }
  ]
}