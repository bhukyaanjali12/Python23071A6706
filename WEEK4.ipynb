{
  "metadata": {
    "kernelspec": {
      "name": "python",
      "display_name": "Python (Pyodide)",
      "language": "python"
    },
    "language_info": {
      "codemirror_mode": {
        "name": "python",
        "version": 3
      },
      "file_extension": ".py",
      "mimetype": "text/x-python",
      "name": "python",
      "nbconvert_exporter": "python",
      "pygments_lexer": "ipython3",
      "version": "3.8"
    },
    "widgets": {
      "application/vnd.jupyter.widget-state+json": {
        "version_major": 2,
        "version_minor": 0,
        "state": {}
      }
    }
  },
  "nbformat_minor": 4,
  "nbformat": 4,
  "cells": [
    {
      "cell_type": "code",
      "source": "def is_sorted(lis):\n    sorted_list=sorted(lis)\n    if(sorted_list==lis):\n        print(\"TRUE\")\n    else:\n        print(\"FALSE\")\n        \nlist1=[1,2,3,4,5]\nlist2=[6,3,8,1,9]\nis_sorted(list1)\nis_sorted(list2)",
      "metadata": {
        "trusted": true
      },
      "outputs": [
        {
          "name": "stdout",
          "text": "TRUE\nFALSE\n",
          "output_type": "stream"
        }
      ],
      "execution_count": 1
    },
    {
      "cell_type": "code",
      "source": "def has_duplicates(lis):\n    return len(lis) != len(set(lis))\n    \nlist3=[1,3,2,3,6,1,8]\nhas_duplicates(list3)",
      "metadata": {
        "trusted": true
      },
      "outputs": [
        {
          "execution_count": 2,
          "output_type": "execute_result",
          "data": {
            "text/plain": "True"
          },
          "metadata": {}
        }
      ],
      "execution_count": 2
    },
    {
      "cell_type": "code",
      "source": "def remove_duplicates(lis):\n    new_list=set(lis)\n    print(new_list)\n\nremove_duplicates(list3)",
      "metadata": {
        "trusted": true
      },
      "outputs": [
        {
          "name": "stdout",
          "text": "{1, 2, 3, 6, 8}\n",
          "output_type": "stream"
        }
      ],
      "execution_count": 3
    },
    {
      "cell_type": "code",
      "source": "def reverse(dic):\n    reverse_dict={y:x for x,y in dic.items()}\n    print(reverse_dict)\ndic = {\n    \"name\":\"John\",\n    \"age\": 18,\n    \"branch\":\"DS\"\n}\nprint(dic)\nreverse(dic)",
      "metadata": {
        "trusted": true
      },
      "outputs": [
        {
          "name": "stdout",
          "text": "{'name': 'John', 'age': 18, 'branch': 'DS'}\n{'John': 'name', 18: 'age', 'DS': 'branch'}\n",
          "output_type": "stream"
        }
      ],
      "execution_count": 4
    },
    {
      "cell_type": "code",
      "source": "new_word=','.join(x for x in \"Apple\")\nprint(new_word)",
      "metadata": {
        "trusted": true
      },
      "outputs": [
        {
          "name": "stdout",
          "text": "A,p,p,l,e\n",
          "output_type": "stream"
        }
      ],
      "execution_count": 5
    },
    {
      "cell_type": "code",
      "source": "def remove(sentence):\n    return sentence.replace(\"Apple\",\"\")\nsen=\"Apple is red.Apple is sweet.Apple juice.\"\nremove(sen)",
      "metadata": {
        "trusted": true
      },
      "outputs": [
        {
          "execution_count": 6,
          "output_type": "execute_result",
          "data": {
            "text/plain": "' is red. is sweet. juice.'"
          },
          "metadata": {}
        }
      ],
      "execution_count": 6
    },
    {
      "cell_type": "code",
      "source": "def replace(sentence):\n    result = ''\n    cap_next = True \n    for ch in sentence:\n        if ch == ' ':\n            result += ch\n            cap_next = True\n        elif cap_next and 'a' <= ch <= 'z':\n            result += chr(ord(ch) - 32)\n            cap_next = False\n        elif not cap_next and 'A' <= ch <= 'Z':\n            result += chr(ord(ch) + 32)\n        else:\n            result += ch\n            cap_next = False\n    \n    return result\nsent=\"praCtice makes wOman perfeCt\"\nprint(replace(sent))",
      "metadata": {
        "trusted": true
      },
      "outputs": [
        {
          "name": "stdout",
          "text": "Practice Makes Woman Perfect\n",
          "output_type": "stream"
        }
      ],
      "execution_count": 7
    },
    {
      "cell_type": "code",
      "source": "def binary_strings(n, prefix=\"\"):\n    if n == 0:\n        print(prefix)\n    else:\n        binary_strings(n - 1, prefix + \"0\")\n        binary_strings(n - 1, prefix + \"1\")\nn = 2\nbinary_strings(n)",
      "metadata": {
        "trusted": true
      },
      "outputs": [
        {
          "name": "stdout",
          "text": "00\n01\n10\n11\n",
          "output_type": "stream"
        }
      ],
      "execution_count": 10
    },
    {
      "cell_type": "code",
      "source": "A={1,2,3,4,5}\nB={2,4,6,8}\nprint(\"Union of sets:\",A|B)\nprint(\"Intersection of sets:\",A&B)\nprint(\"Difference of sets:\",A-B)\nprint(\"symmetric difference of sets:\",A^B)\nprint(\"Whether Disjoint set or not:\",A.isdisjoint(B))\nprint(\"Subset or not:\",A.issubset(B))\nprint(\"Superset or not:\",A.issuperset(B))",
      "metadata": {
        "trusted": true
      },
      "outputs": [
        {
          "name": "stdout",
          "text": "Union of sets: {1, 2, 3, 4, 5, 6, 8}\nIntersection of sets: {2, 4}\nDifference of sets: {1, 3, 5}\nsymmetric difference of sets: {1, 3, 5, 6, 8}\nWhether Disjoint set or not: False\nSubset or not: False\nSuperset or not: False\n",
          "output_type": "stream"
        }
      ],
      "execution_count": 13
    },
    {
      "cell_type": "code",
      "source": "def palindrome(s):\n    s=s.lower()\n    new_s=s[::-1]\n    if s==new_s:\n        print(f\"'{s}' is a palindrome\")\n    else:\n        print(f\"'{s}' is not a palindrome\")\nstring1=\"Amma\"\nstring2=\"some\"\npalindrome(string1)\npalindrome(string2)",
      "metadata": {
        "trusted": true
      },
      "outputs": [
        {
          "name": "stdout",
          "text": "'amma' is a palindrome\n'some' is not a palindrome\n",
          "output_type": "stream"
        }
      ],
      "execution_count": 15
    },
    {
      "cell_type": "code",
      "source": "",
      "metadata": {
        "trusted": true
      },
      "outputs": [],
      "execution_count": null
    }
  ]
}